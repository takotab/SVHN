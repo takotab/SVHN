{
 "cells": [
  {
   "cell_type": "code",
   "execution_count": 3,
   "metadata": {},
   "outputs": [],
   "source": [
    "import torch\n",
    "import numpy as np\n",
    "import pandas as pd\n",
    "import matplotlib.pyplot as plt"
   ]
  },
  {
   "cell_type": "code",
   "execution_count": 4,
   "metadata": {},
   "outputs": [],
   "source": [
    "import glob, os"
   ]
  },
  {
   "cell_type": "code",
   "execution_count": 39,
   "metadata": {},
   "outputs": [
    {
     "name": "stdout",
     "output_type": "stream",
     "text": [
      "31669 train\n",
      "33401 valid\n",
      "newdata_224/train_valid_labels.csv\n"
     ]
    },
    {
     "data": {
      "text/html": [
       "<div>\n",
       "<style scoped>\n",
       "    .dataframe tbody tr th:only-of-type {\n",
       "        vertical-align: middle;\n",
       "    }\n",
       "\n",
       "    .dataframe tbody tr th {\n",
       "        vertical-align: top;\n",
       "    }\n",
       "\n",
       "    .dataframe thead th {\n",
       "        text-align: right;\n",
       "    }\n",
       "</style>\n",
       "<table border=\"1\" class=\"dataframe\">\n",
       "  <thead>\n",
       "    <tr style=\"text-align: right;\">\n",
       "      <th></th>\n",
       "      <th>name</th>\n",
       "      <th>tags</th>\n",
       "    </tr>\n",
       "  </thead>\n",
       "  <tbody>\n",
       "    <tr>\n",
       "      <th>0</th>\n",
       "      <td>train/image7997_37xxx.png</td>\n",
       "      <td>3 07</td>\n",
       "    </tr>\n",
       "    <tr>\n",
       "      <th>1</th>\n",
       "      <td>train/image4591_30xxx.png</td>\n",
       "      <td>3 00</td>\n",
       "    </tr>\n",
       "    <tr>\n",
       "      <th>2</th>\n",
       "      <td>train/image8945_64xxx.png</td>\n",
       "      <td>6 04</td>\n",
       "    </tr>\n",
       "    <tr>\n",
       "      <th>3</th>\n",
       "      <td>train/image16381_2627x.png</td>\n",
       "      <td>2 06 002 0007</td>\n",
       "    </tr>\n",
       "    <tr>\n",
       "      <th>4</th>\n",
       "      <td>train/image2431_21xxx.png</td>\n",
       "      <td>2 01</td>\n",
       "    </tr>\n",
       "  </tbody>\n",
       "</table>\n",
       "</div>"
      ],
      "text/plain": [
       "                         name           tags\n",
       "0   train/image7997_37xxx.png           3 07\n",
       "1   train/image4591_30xxx.png           3 00\n",
       "2   train/image8945_64xxx.png           6 04\n",
       "3  train/image16381_2627x.png  2 06 002 0007\n",
       "4   train/image2431_21xxx.png           2 01"
      ]
     },
     "execution_count": 39,
     "metadata": {},
     "output_type": "execute_result"
    }
   ],
   "source": [
    "def filename_to_label(filename):    \n",
    "    result = []\n",
    "    labels = filename.split(\"_\")[-1].split(\".png\")[0]\n",
    "    \n",
    "    for i,l in enumerate(labels):\n",
    "        if l is not 'x': \n",
    "            result.append(\"\".join([\"0\"]*i) + str(l))\n",
    "    return \" \".join(result)\n",
    "    \n",
    "    \n",
    "filename_to_label('newdata_224/valid/image10085_508xx.png')\n",
    "def make_csv(dir,folders):\n",
    "    pics = []\n",
    "    for folder in folders:\n",
    "        f_dir = os.path.join(dir,folder,\"*.png\")\n",
    "        for file in glob.glob(f_dir):\n",
    "            file = \"/\".join(file.split(\"/\")[-2:])\n",
    "            y = filename_to_label(file)\n",
    "            pics.append({\"name\":file,\"tags\":y})\n",
    "        print(len(pics),folder)\n",
    "    df = pd.DataFrame(pics)\n",
    "    path = os.path.join(dir,\"_\".join(folders)+\"_labels.csv\")\n",
    "    print(path)\n",
    "    df.to_csv(path, index = False)\n",
    "    return df\n",
    "    \n",
    "    \n",
    "df = make_csv('newdata_224',['train','valid'])  \n",
    "df[df.name.str.contains('train')].head()"
   ]
  },
  {
   "cell_type": "code",
   "execution_count": 40,
   "metadata": {},
   "outputs": [
    {
     "name": "stdout",
     "output_type": "stream",
     "text": [
      "31669 train\n",
      "44737 test\n",
      "newdata_224/train_test_labels.csv\n"
     ]
    }
   ],
   "source": [
    "df = make_csv('newdata_224',['train','test'])"
   ]
  },
  {
   "cell_type": "code",
   "execution_count": 41,
   "metadata": {},
   "outputs": [
    {
     "name": "stdout",
     "output_type": "stream",
     "text": [
      "31669 train\n",
      "88034 extra\n",
      "89766 valid\n",
      "newdata_224/train_extra_valid_labels.csv\n"
     ]
    }
   ],
   "source": [
    "df = make_csv('newdata_224',['train','extra','valid'])"
   ]
  },
  {
   "cell_type": "code",
   "execution_count": 63,
   "metadata": {},
   "outputs": [
    {
     "data": {
      "text/html": [
       "<div>\n",
       "<style scoped>\n",
       "    .dataframe tbody tr th:only-of-type {\n",
       "        vertical-align: middle;\n",
       "    }\n",
       "\n",
       "    .dataframe tbody tr th {\n",
       "        vertical-align: top;\n",
       "    }\n",
       "\n",
       "    .dataframe thead th {\n",
       "        text-align: right;\n",
       "    }\n",
       "</style>\n",
       "<table border=\"1\" class=\"dataframe\">\n",
       "  <thead>\n",
       "    <tr style=\"text-align: right;\">\n",
       "      <th></th>\n",
       "      <th>image_name</th>\n",
       "      <th>tags</th>\n",
       "    </tr>\n",
       "  </thead>\n",
       "  <tbody>\n",
       "    <tr>\n",
       "      <th>0</th>\n",
       "      <td>image43238_48xxx.png</td>\n",
       "      <td>4 08</td>\n",
       "    </tr>\n",
       "    <tr>\n",
       "      <th>1</th>\n",
       "      <td>image35061_76xxx.png</td>\n",
       "      <td>7 06</td>\n",
       "    </tr>\n",
       "    <tr>\n",
       "      <th>2</th>\n",
       "      <td>image785_33xxx.png</td>\n",
       "      <td>3 03</td>\n",
       "    </tr>\n",
       "    <tr>\n",
       "      <th>3</th>\n",
       "      <td>image13143_355xx.png</td>\n",
       "      <td>3 05 005</td>\n",
       "    </tr>\n",
       "    <tr>\n",
       "      <th>4</th>\n",
       "      <td>image51727_136xx.png</td>\n",
       "      <td>1 03 006</td>\n",
       "    </tr>\n",
       "  </tbody>\n",
       "</table>\n",
       "</div>"
      ],
      "text/plain": [
       "             image_name      tags\n",
       "0  image43238_48xxx.png      4 08\n",
       "1  image35061_76xxx.png      7 06\n",
       "2    image785_33xxx.png      3 03\n",
       "3  image13143_355xx.png  3 05 005\n",
       "4  image51727_136xx.png  1 03 006"
      ]
     },
     "execution_count": 63,
     "metadata": {},
     "output_type": "execute_result"
    }
   ],
   "source": []
  },
  {
   "cell_type": "code",
   "execution_count": null,
   "metadata": {},
   "outputs": [],
   "source": []
  }
 ],
 "metadata": {
  "kernelspec": {
   "display_name": "env-ai-37",
   "language": "python",
   "name": "env-ai-37"
  },
  "language_info": {
   "codemirror_mode": {
    "name": "ipython",
    "version": 3
   },
   "file_extension": ".py",
   "mimetype": "text/x-python",
   "name": "python",
   "nbconvert_exporter": "python",
   "pygments_lexer": "ipython3",
   "version": "3.7.2"
  }
 },
 "nbformat": 4,
 "nbformat_minor": 2
}
